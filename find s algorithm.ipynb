{
 "cells": [
  {
   "cell_type": "code",
   "execution_count": 1,
   "id": "cbfc5f92",
   "metadata": {},
   "outputs": [],
   "source": [
    "import pandas as pd\n",
    "import numpy as np\n"
   ]
  },
  {
   "cell_type": "code",
   "execution_count": 2,
   "id": "6cecc146",
   "metadata": {},
   "outputs": [],
   "source": [
    "S = pd.read_csv(\"play.csv\")"
   ]
  },
  {
   "cell_type": "code",
   "execution_count": 3,
   "id": "8dc36b50",
   "metadata": {},
   "outputs": [
    {
     "data": {
      "text/html": [
       "<div>\n",
       "<style scoped>\n",
       "    .dataframe tbody tr th:only-of-type {\n",
       "        vertical-align: middle;\n",
       "    }\n",
       "\n",
       "    .dataframe tbody tr th {\n",
       "        vertical-align: top;\n",
       "    }\n",
       "\n",
       "    .dataframe thead th {\n",
       "        text-align: right;\n",
       "    }\n",
       "</style>\n",
       "<table border=\"1\" class=\"dataframe\">\n",
       "  <thead>\n",
       "    <tr style=\"text-align: right;\">\n",
       "      <th></th>\n",
       "      <th>sky</th>\n",
       "      <th>airtemp</th>\n",
       "      <th>humidity</th>\n",
       "      <th>wind</th>\n",
       "      <th>water</th>\n",
       "      <th>forecast</th>\n",
       "      <th>enjoy</th>\n",
       "    </tr>\n",
       "  </thead>\n",
       "  <tbody>\n",
       "    <tr>\n",
       "      <th>0</th>\n",
       "      <td>sunny</td>\n",
       "      <td>warm</td>\n",
       "      <td>normal</td>\n",
       "      <td>strong</td>\n",
       "      <td>warm</td>\n",
       "      <td>same</td>\n",
       "      <td>yes</td>\n",
       "    </tr>\n",
       "    <tr>\n",
       "      <th>1</th>\n",
       "      <td>sunny</td>\n",
       "      <td>warm</td>\n",
       "      <td>high</td>\n",
       "      <td>strong</td>\n",
       "      <td>warm</td>\n",
       "      <td>same</td>\n",
       "      <td>yes</td>\n",
       "    </tr>\n",
       "    <tr>\n",
       "      <th>2</th>\n",
       "      <td>rainy</td>\n",
       "      <td>cold</td>\n",
       "      <td>high</td>\n",
       "      <td>strong</td>\n",
       "      <td>warm</td>\n",
       "      <td>change</td>\n",
       "      <td>no</td>\n",
       "    </tr>\n",
       "    <tr>\n",
       "      <th>3</th>\n",
       "      <td>sunny</td>\n",
       "      <td>warm</td>\n",
       "      <td>high</td>\n",
       "      <td>strong</td>\n",
       "      <td>cool</td>\n",
       "      <td>change</td>\n",
       "      <td>yes</td>\n",
       "    </tr>\n",
       "  </tbody>\n",
       "</table>\n",
       "</div>"
      ],
      "text/plain": [
       "     sky airtemp humidity    wind water forecast enjoy\n",
       "0  sunny    warm   normal  strong  warm     same   yes\n",
       "1  sunny    warm     high  strong  warm     same   yes\n",
       "2  rainy    cold     high  strong  warm   change    no\n",
       "3  sunny    warm     high  strong  cool   change   yes"
      ]
     },
     "execution_count": 3,
     "metadata": {},
     "output_type": "execute_result"
    }
   ],
   "source": [
    "S\n"
   ]
  },
  {
   "cell_type": "code",
   "execution_count": 4,
   "id": "76a38f7e",
   "metadata": {},
   "outputs": [],
   "source": [
    "con = np.array(S)[:,:-1]"
   ]
  },
  {
   "cell_type": "code",
   "execution_count": 5,
   "id": "f20a2313",
   "metadata": {},
   "outputs": [
    {
     "data": {
      "text/plain": [
       "array([['sunny', 'warm', 'normal', 'strong', 'warm', 'same'],\n",
       "       ['sunny', 'warm', 'high', 'strong', 'warm', 'same'],\n",
       "       ['rainy', 'cold', 'high', 'strong', 'warm', 'change'],\n",
       "       ['sunny', 'warm', 'high', 'strong', 'cool', 'change']],\n",
       "      dtype=object)"
      ]
     },
     "execution_count": 5,
     "metadata": {},
     "output_type": "execute_result"
    }
   ],
   "source": [
    "con"
   ]
  },
  {
   "cell_type": "code",
   "execution_count": 6,
   "id": "7fb3dcdf",
   "metadata": {},
   "outputs": [],
   "source": [
    "tar = np.array(S)[0:5,-1:]"
   ]
  },
  {
   "cell_type": "code",
   "execution_count": 7,
   "id": "d2279f14",
   "metadata": {},
   "outputs": [
    {
     "data": {
      "text/plain": [
       "array([['yes'],\n",
       "       ['yes'],\n",
       "       ['no'],\n",
       "       ['yes']], dtype=object)"
      ]
     },
     "execution_count": 7,
     "metadata": {},
     "output_type": "execute_result"
    }
   ],
   "source": [
    "tar\n"
   ]
  },
  {
   "cell_type": "code",
   "execution_count": 21,
   "id": "0369ce11",
   "metadata": {},
   "outputs": [
    {
     "name": "stdout",
     "output_type": "stream",
     "text": [
      "THE MAXIMALLY SPECIFIC HYPOTHESIS IS 0\n",
      "['sunny' 'warm' 'normal' 'strong' 'warm' 'same']\n",
      "THE MAXIMALLY SPECIFIC HYPOTHESIS IS 1\n",
      "['sunny' 'warm' '?' 'strong' 'warm' 'same']\n",
      "THE MAXIMALLY SPECIFIC HYPOTHESIS IS 2\n",
      "['sunny' 'warm' '?' 'strong' 'warm' 'same']\n",
      "THE MAXIMALLY SPECIFIC HYPOTHESIS IS 3\n",
      "['sunny' 'warm' '?' 'strong' '?' '?']\n",
      "None\n"
     ]
    }
   ],
   "source": [
    "def finds (tar,con):\n",
    "    for i,val in enumerate(tar):\n",
    "        if val == \"yes\":\n",
    "            spec=con[i].copy()\n",
    "            break\n",
    "    for i,val in enumerate(con):\n",
    "        if tar[i]=='yes':\n",
    "            for x in range (len(spec)):\n",
    "                if val[x]!=spec[x]:\n",
    "                    spec[x]='?'\n",
    "                else:\n",
    "                    pass\n",
    "        print(\"THE MAXIMALLY SPECIFIC HYPOTHESIS IS\",i)\n",
    "        print(spec)\n",
    "print(finds(tar,con))"
   ]
  },
  {
   "cell_type": "code",
   "execution_count": null,
   "id": "b122ac34",
   "metadata": {},
   "outputs": [],
   "source": []
  }
 ],
 "metadata": {
  "kernelspec": {
   "display_name": "Python 3 (ipykernel)",
   "language": "python",
   "name": "python3"
  },
  "language_info": {
   "codemirror_mode": {
    "name": "ipython",
    "version": 3
   },
   "file_extension": ".py",
   "mimetype": "text/x-python",
   "name": "python",
   "nbconvert_exporter": "python",
   "pygments_lexer": "ipython3",
   "version": "3.9.12"
  }
 },
 "nbformat": 4,
 "nbformat_minor": 5
}
